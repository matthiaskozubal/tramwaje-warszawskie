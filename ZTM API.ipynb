{
 "cells": [
  {
   "cell_type": "code",
   "execution_count": 1,
   "metadata": {
    "collapsed": false
   },
   "outputs": [],
   "source": [
    "import urllib.request\n",
    "from os.path import join, dirname\n",
    "import dotenv\n",
    "import json"
   ]
  },
  {
   "cell_type": "code",
   "execution_count": 8,
   "metadata": {
    "collapsed": false,
    "scrolled": true
   },
   "outputs": [],
   "source": [
    "response = urllib.request.urlopen('https://api.um.warszawa.pl/api/action/dbstore_get/?id=daeea0db-0f9a-498d-9c4f-210897daffd2&apikey=13eaed3c-3b11-4ab2-8ada-9ec71327b95c')\n",
    "html   = response.read().decode('utf-8') # http://stackoverflow.com/questions/23049767/parsing-http-response-in-python\n",
    "data     = json.loads(html) # https://www.reddit.com/r/learnpython/comments/3nx9ch/json_load_vs_loads/"
   ]
  },
  {
   "cell_type": "code",
   "execution_count": null,
   "metadata": {
    "collapsed": true
   },
   "outputs": [],
   "source": [
    "def get_vehicles(data):\n",
    "    def get vehicle(object):\n",
    "        ...\n",
    "    return data['result']"
   ]
  },
  {
   "cell_type": "code",
   "execution_count": 10,
   "metadata": {
    "collapsed": false
   },
   "outputs": [
    {
     "data": {
      "text/plain": [
       "[{'values': [{'key': 'tabor', 'value': 'T'},\n",
       "   {'key': 'linia', 'value': '28'},\n",
       "   {'key': 'gps_szer', 'value': '52.291349'},\n",
       "   {'key': 'gps_dlug', 'value': '20.929682'},\n",
       "   {'key': 'ostatnia_aktualizacja', 'value': '2016-04-16 23:52:17.0'}]},\n",
       " {'values': [{'key': 'tabor', 'value': 'T'},\n",
       "   {'key': 'linia', 'value': '28'},\n",
       "   {'key': 'gps_szer', 'value': '52.299416'},\n",
       "   {'key': 'gps_dlug', 'value': '20.933599'},\n",
       "   {'key': 'ostatnia_aktualizacja', 'value': '2016-04-16 23:27:21.0'}]},\n",
       " {'values': [{'key': 'tabor', 'value': 'T'},\n",
       "   {'key': 'linia', 'value': '27'},\n",
       "   {'key': 'gps_szer', 'value': '52.298353'},\n",
       "   {'key': 'gps_dlug', 'value': '20.930565'},\n",
       "   {'key': 'ostatnia_aktualizacja', 'value': '2016-04-16 23:29:24.0'}]},\n",
       " {'values': [{'key': 'tabor', 'value': 'T'},\n",
       "   {'key': 'linia', 'value': '0'},\n",
       "   {'key': 'gps_szer', 'value': '52.298345'},\n",
       "   {'key': 'gps_dlug', 'value': '20.932369'},\n",
       "   {'key': 'ostatnia_aktualizacja', 'value': '2016-04-16 23:46:45.0'}]}]"
      ]
     },
     "execution_count": 10,
     "metadata": {},
     "output_type": "execute_result"
    }
   ],
   "source": [
    "data['result'][:4]"
   ]
  },
  {
   "cell_type": "code",
   "execution_count": 29,
   "metadata": {
    "collapsed": false
   },
   "outputs": [
    {
     "data": {
      "text/plain": [
       "{'values': [{'key': 'tabor', 'value': 'T'},\n",
       "  {'key': 'linia', 'value': '27'},\n",
       "  {'key': 'gps_szer', 'value': '52.298353'},\n",
       "  {'key': 'gps_dlug', 'value': '20.930565'},\n",
       "  {'key': 'ostatnia_aktualizacja', 'value': '2016-04-16 23:29:24.0'}]}"
      ]
     },
     "execution_count": 29,
     "metadata": {},
     "output_type": "execute_result"
    }
   ],
   "source": [
    "data['result'][2]"
   ]
  },
  {
   "cell_type": "code",
   "execution_count": null,
   "metadata": {
    "collapsed": true
   },
   "outputs": [],
   "source": []
  }
 ],
 "metadata": {
  "kernelspec": {
   "display_name": "Python 3",
   "language": "python",
   "name": "python3"
  },
  "language_info": {
   "codemirror_mode": {
    "name": "ipython",
    "version": 3
   },
   "file_extension": ".py",
   "mimetype": "text/x-python",
   "name": "python",
   "nbconvert_exporter": "python",
   "pygments_lexer": "ipython3",
   "version": "3.5.0"
  }
 },
 "nbformat": 4,
 "nbformat_minor": 0
}
