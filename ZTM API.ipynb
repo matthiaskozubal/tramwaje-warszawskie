{
 "cells": [
  {
   "cell_type": "code",
   "execution_count": 40,
   "metadata": {
    "collapsed": false
   },
   "outputs": [],
   "source": [
    "import urllib.request\n",
    "from os.path import join, dirname\n",
    "import dotenv\n",
    "import json\n",
    "import pandas\n",
    "import matplotlib"
   ]
  },
  {
   "cell_type": "code",
   "execution_count": 16,
   "metadata": {
    "collapsed": false,
    "scrolled": true
   },
   "outputs": [],
   "source": [
    "response = urllib.request.urlopen('https://api.um.warszawa.pl/api/action/dbstore_get/?id=daeea0db-0f9a-498d-9c4f-210897daffd2&apikey=13eaed3c-3b11-4ab2-8ada-9ec71327b95c')\n",
    "html   = response.read().decode('utf-8') # http://stackoverflow.com/questions/23049767/parsing-http-response-in-python\n",
    "data     = json.loads(html) # https://www.reddit.com/r/learnpython/comments/3nx9ch/json_load_vs_loads/"
   ]
  },
  {
   "cell_type": "code",
   "execution_count": 17,
   "metadata": {
    "collapsed": true
   },
   "outputs": [],
   "source": [
    "def get_vehicles(data):\n",
    "    def get_vehicle(item):\n",
    "        return dict( [(item_values['key'],item_values['value']) for item_values in item['values']] )\n",
    "    return [get_vehicle(item) for item in data['result']]"
   ]
  },
  {
   "cell_type": "code",
   "execution_count": 21,
   "metadata": {
    "collapsed": false
   },
   "outputs": [
    {
     "data": {
      "text/plain": [
       "[{'values': [{'key': 'tabor', 'value': 'T'},\n",
       "   {'key': 'linia', 'value': '28'},\n",
       "   {'key': 'gps_szer', 'value': '52.258132'},\n",
       "   {'key': 'gps_dlug', 'value': '20.995517'},\n",
       "   {'key': 'ostatnia_aktualizacja', 'value': '2016-04-17 12:58:10.0'}]},\n",
       " {'values': [{'key': 'tabor', 'value': 'T'},\n",
       "   {'key': 'linia', 'value': '27'},\n",
       "   {'key': 'gps_szer', 'value': '52.232835'},\n",
       "   {'key': 'gps_dlug', 'value': '20.960362'},\n",
       "   {'key': 'ostatnia_aktualizacja', 'value': '2016-04-17 12:58:45.0'}]},\n",
       " {'values': [{'key': 'tabor', 'value': 'T'},\n",
       "   {'key': 'linia', 'value': '28'},\n",
       "   {'key': 'gps_szer', 'value': '52.271434'},\n",
       "   {'key': 'gps_dlug', 'value': '20.945936'},\n",
       "   {'key': 'ostatnia_aktualizacja', 'value': '2016-04-17 12:58:18.0'}]}]"
      ]
     },
     "execution_count": 21,
     "metadata": {},
     "output_type": "execute_result"
    }
   ],
   "source": [
    "data['result'][:3]"
   ]
  },
  {
   "cell_type": "code",
   "execution_count": 20,
   "metadata": {
    "collapsed": false
   },
   "outputs": [
    {
     "data": {
      "text/plain": [
       "[{'gps_dlug': '20.995517',\n",
       "  'gps_szer': '52.258132',\n",
       "  'linia': '28',\n",
       "  'ostatnia_aktualizacja': '2016-04-17 12:58:10.0',\n",
       "  'tabor': 'T'},\n",
       " {'gps_dlug': '20.960362',\n",
       "  'gps_szer': '52.232835',\n",
       "  'linia': '27',\n",
       "  'ostatnia_aktualizacja': '2016-04-17 12:58:45.0',\n",
       "  'tabor': 'T'},\n",
       " {'gps_dlug': '20.945936',\n",
       "  'gps_szer': '52.271434',\n",
       "  'linia': '28',\n",
       "  'ostatnia_aktualizacja': '2016-04-17 12:58:18.0',\n",
       "  'tabor': 'T'}]"
      ]
     },
     "execution_count": 20,
     "metadata": {},
     "output_type": "execute_result"
    }
   ],
   "source": [
    "vehicles = get_vehicles(data)\n",
    "vehicles[:3]"
   ]
  },
  {
   "cell_type": "code",
   "execution_count": 11,
   "metadata": {
    "collapsed": false
   },
   "outputs": [
    {
     "name": "stdout",
     "output_type": "stream",
     "text": [
      "Chrupo!\n"
     ]
    }
   ],
   "source": [
    "call=\"Chrupo!\"\n",
    "print(call)"
   ]
  },
  {
   "cell_type": "code",
   "execution_count": 31,
   "metadata": {
    "collapsed": false
   },
   "outputs": [],
   "source": [
    "def create_point(latitude, longitude, number):\n",
    "    return {\n",
    "            'type':          'Feature',\n",
    "            'geometry':      {\n",
    "                              'type':        'Point',\n",
    "                              'coordinates': [latitude, longitude]\n",
    "                             },\n",
    "            'properties':    {\n",
    "                              'marker-color': '#3ca0d3',            \n",
    "                              'marker-symbol': number                        \n",
    "                             }\n",
    "           }"
   ]
  },
  {
   "cell_type": "code",
   "execution_count": 34,
   "metadata": {
    "collapsed": false
   },
   "outputs": [],
   "source": [
    "geodata = [create_point(vehicle['gps_dlug'], vehicle['gps_szer'], vehicle['linia']) for vehicle in vehicles]"
   ]
  },
  {
   "cell_type": "code",
   "execution_count": 72,
   "metadata": {
    "collapsed": false
   },
   "outputs": [],
   "source": [
    "import urllib.request\n",
    "from os.path import join, dirname\n",
    "import dotenv\n",
    "import json\n",
    "import time\n",
    "\n",
    "def get_credentials(var, filename='.env'):\n",
    "    path = join(dirname(__file__), filename)\n",
    "    return dotenv.get_variable(path, var) # returns properly only if line with APIKEY is not the last one, insert empty line after it\n",
    "\n",
    "def get_vehicles(data):\n",
    "    def get_vehicle(item):\n",
    "        return dict( [(item_values['key'],item_values['value']) for item_values in item['values']] )\n",
    "    return [get_vehicle(item) for item in data['result']]\n",
    "\n",
    "def main():\n",
    "    response = urllib.request.urlopen('https://api.um.warszawa.pl/api/action/dbstore_get/?id=daeea0db-0f9a-498d-9c4f-210897daffd2&apikey=' + get_credentials('APIKEY')) # get page\n",
    "    html   = response.read().decode('utf-8') # decode page # http://stackoverflow.com/questions/23049767/parsing-http-response-in-python\n",
    "    data     = json.loads(html) # load string data to json # https://www.reddit.com/r/learnpython/comments/3nx9ch/json_load_vs_loads/\n",
    "    vehicles = get_vehicles(data) # take all vehicles, keys: 'tabor,' 'linia', 'gps_dlug', 'ostatnia_aktualizacja', 'gps_szer'\n",
    "    vehicles_json = json.dumps(vehicles)\n",
    "#     geodata = [create_point(vehicle['gps_dlug'], vehicle['gps_szer'], vehicle['linia']) for vehicle in vehicles]\n",
    "#     timedata = [x['ostatnia_aktualizacja'] for x in vehicles]\n",
    "    return vehicles_json"
   ]
  },
  {
   "cell_type": "code",
   "execution_count": 73,
   "metadata": {
    "collapsed": false
   },
   "outputs": [
    {
     "ename": "NameError",
     "evalue": "name '__file__' is not defined",
     "output_type": "error",
     "traceback": [
      "\u001b[1;31m---------------------------------------------------------------------------\u001b[0m",
      "\u001b[1;31mNameError\u001b[0m                                 Traceback (most recent call last)",
      "\u001b[1;32m<ipython-input-73-e7e87a809090>\u001b[0m in \u001b[0;36m<module>\u001b[1;34m()\u001b[0m\n\u001b[1;32m----> 1\u001b[1;33m \u001b[0mvehicles_json\u001b[0m \u001b[1;33m=\u001b[0m \u001b[0mmain\u001b[0m\u001b[1;33m(\u001b[0m\u001b[1;33m)\u001b[0m\u001b[1;33m\u001b[0m\u001b[0m\n\u001b[0m\u001b[0;32m      2\u001b[0m \u001b[1;31m# data = pandas.DataFrame(vehicles)\u001b[0m\u001b[1;33m\u001b[0m\u001b[1;33m\u001b[0m\u001b[0m\n\u001b[0;32m      3\u001b[0m \u001b[1;31m# data = data.astype(float)\u001b[0m\u001b[1;33m\u001b[0m\u001b[1;33m\u001b[0m\u001b[0m\n",
      "\u001b[1;32m<ipython-input-72-e98239980672>\u001b[0m in \u001b[0;36mmain\u001b[1;34m()\u001b[0m\n\u001b[0;32m     15\u001b[0m \u001b[1;33m\u001b[0m\u001b[0m\n\u001b[0;32m     16\u001b[0m \u001b[1;32mdef\u001b[0m \u001b[0mmain\u001b[0m\u001b[1;33m(\u001b[0m\u001b[1;33m)\u001b[0m\u001b[1;33m:\u001b[0m\u001b[1;33m\u001b[0m\u001b[0m\n\u001b[1;32m---> 17\u001b[1;33m     \u001b[0mresponse\u001b[0m \u001b[1;33m=\u001b[0m \u001b[0murllib\u001b[0m\u001b[1;33m.\u001b[0m\u001b[0mrequest\u001b[0m\u001b[1;33m.\u001b[0m\u001b[0murlopen\u001b[0m\u001b[1;33m(\u001b[0m\u001b[1;34m'https://api.um.warszawa.pl/api/action/dbstore_get/?id=daeea0db-0f9a-498d-9c4f-210897daffd2&apikey='\u001b[0m \u001b[1;33m+\u001b[0m \u001b[0mget_credentials\u001b[0m\u001b[1;33m(\u001b[0m\u001b[1;34m'APIKEY'\u001b[0m\u001b[1;33m)\u001b[0m\u001b[1;33m)\u001b[0m \u001b[1;31m# get page\u001b[0m\u001b[1;33m\u001b[0m\u001b[0m\n\u001b[0m\u001b[0;32m     18\u001b[0m     \u001b[0mhtml\u001b[0m   \u001b[1;33m=\u001b[0m \u001b[0mresponse\u001b[0m\u001b[1;33m.\u001b[0m\u001b[0mread\u001b[0m\u001b[1;33m(\u001b[0m\u001b[1;33m)\u001b[0m\u001b[1;33m.\u001b[0m\u001b[0mdecode\u001b[0m\u001b[1;33m(\u001b[0m\u001b[1;34m'utf-8'\u001b[0m\u001b[1;33m)\u001b[0m \u001b[1;31m# decode page # http://stackoverflow.com/questions/23049767/parsing-http-response-in-python\u001b[0m\u001b[1;33m\u001b[0m\u001b[0m\n\u001b[0;32m     19\u001b[0m     \u001b[0mdata\u001b[0m     \u001b[1;33m=\u001b[0m \u001b[0mjson\u001b[0m\u001b[1;33m.\u001b[0m\u001b[0mloads\u001b[0m\u001b[1;33m(\u001b[0m\u001b[0mhtml\u001b[0m\u001b[1;33m)\u001b[0m \u001b[1;31m# load string data to json # https://www.reddit.com/r/learnpython/comments/3nx9ch/json_load_vs_loads/\u001b[0m\u001b[1;33m\u001b[0m\u001b[0m\n",
      "\u001b[1;32m<ipython-input-72-e98239980672>\u001b[0m in \u001b[0;36mget_credentials\u001b[1;34m(var, filename)\u001b[0m\n\u001b[0;32m      6\u001b[0m \u001b[1;33m\u001b[0m\u001b[0m\n\u001b[0;32m      7\u001b[0m \u001b[1;32mdef\u001b[0m \u001b[0mget_credentials\u001b[0m\u001b[1;33m(\u001b[0m\u001b[0mvar\u001b[0m\u001b[1;33m,\u001b[0m \u001b[0mfilename\u001b[0m\u001b[1;33m=\u001b[0m\u001b[1;34m'.env'\u001b[0m\u001b[1;33m)\u001b[0m\u001b[1;33m:\u001b[0m\u001b[1;33m\u001b[0m\u001b[0m\n\u001b[1;32m----> 8\u001b[1;33m     \u001b[0mpath\u001b[0m \u001b[1;33m=\u001b[0m \u001b[0mjoin\u001b[0m\u001b[1;33m(\u001b[0m\u001b[0mdirname\u001b[0m\u001b[1;33m(\u001b[0m\u001b[0m__file__\u001b[0m\u001b[1;33m)\u001b[0m\u001b[1;33m,\u001b[0m \u001b[0mfilename\u001b[0m\u001b[1;33m)\u001b[0m\u001b[1;33m\u001b[0m\u001b[0m\n\u001b[0m\u001b[0;32m      9\u001b[0m     \u001b[1;32mreturn\u001b[0m \u001b[0mdotenv\u001b[0m\u001b[1;33m.\u001b[0m\u001b[0mget_variable\u001b[0m\u001b[1;33m(\u001b[0m\u001b[0mpath\u001b[0m\u001b[1;33m,\u001b[0m \u001b[0mvar\u001b[0m\u001b[1;33m)\u001b[0m \u001b[1;31m# returns properly only if line with APIKEY is not the last one, insert empty line after it\u001b[0m\u001b[1;33m\u001b[0m\u001b[0m\n\u001b[0;32m     10\u001b[0m \u001b[1;33m\u001b[0m\u001b[0m\n",
      "\u001b[1;31mNameError\u001b[0m: name '__file__' is not defined"
     ]
    }
   ],
   "source": [
    "vehicles_json = main()\n",
    "# data = pandas.DataFrame(vehicles)\n",
    "# data = data.astype(float)"
   ]
  },
  {
   "cell_type": "code",
   "execution_count": 54,
   "metadata": {
    "collapsed": false
   },
   "outputs": [],
   "source": [
    "%matplotlib inline\n",
    "# data[['gps_dlug', 'gps_szer']].hist()"
   ]
  },
  {
   "cell_type": "code",
   "execution_count": null,
   "metadata": {
    "collapsed": true
   },
   "outputs": [],
   "source": []
  }
 ],
 "metadata": {
  "kernelspec": {
   "display_name": "Python 3",
   "language": "python",
   "name": "python3"
  },
  "language_info": {
   "codemirror_mode": {
    "name": "ipython",
    "version": 3
   },
   "file_extension": ".py",
   "mimetype": "text/x-python",
   "name": "python",
   "nbconvert_exporter": "python",
   "pygments_lexer": "ipython3",
   "version": "3.5.0"
  }
 },
 "nbformat": 4,
 "nbformat_minor": 0
}
