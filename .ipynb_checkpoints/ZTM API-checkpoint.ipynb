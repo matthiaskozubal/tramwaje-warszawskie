{
 "cells": [
  {
   "cell_type": "code",
   "execution_count": 13,
   "metadata": {
    "collapsed": false
   },
   "outputs": [],
   "source": [
    "import urllib.request\n",
    "from os.path import join, dirname\n",
    "import dotenv\n",
    "import json"
   ]
  },
  {
   "cell_type": "code",
   "execution_count": 16,
   "metadata": {
    "collapsed": false,
    "scrolled": true
   },
   "outputs": [],
   "source": [
    "response = urllib.request.urlopen('https://api.um.warszawa.pl/api/action/dbstore_get/?id=daeea0db-0f9a-498d-9c4f-210897daffd2&apikey=13eaed3c-3b11-4ab2-8ada-9ec71327b95c')\n",
    "html   = response.read().decode('utf-8') # http://stackoverflow.com/questions/23049767/parsing-http-response-in-python\n",
    "data     = json.loads(html) # https://www.reddit.com/r/learnpython/comments/3nx9ch/json_load_vs_loads/"
   ]
  },
  {
   "cell_type": "code",
   "execution_count": 17,
   "metadata": {
    "collapsed": true
   },
   "outputs": [],
   "source": [
    "def get_vehicles(data):\n",
    "    def get_vehicle(item):\n",
    "        return dict( [(item_values['key'],item_values['value']) for item_values in item['values']] )\n",
    "    return [get_vehicle(item) for item in data['result']]"
   ]
  },
  {
   "cell_type": "code",
   "execution_count": 21,
   "metadata": {
    "collapsed": false
   },
   "outputs": [
    {
     "data": {
      "text/plain": [
       "[{'values': [{'key': 'tabor', 'value': 'T'},\n",
       "   {'key': 'linia', 'value': '28'},\n",
       "   {'key': 'gps_szer', 'value': '52.258132'},\n",
       "   {'key': 'gps_dlug', 'value': '20.995517'},\n",
       "   {'key': 'ostatnia_aktualizacja', 'value': '2016-04-17 12:58:10.0'}]},\n",
       " {'values': [{'key': 'tabor', 'value': 'T'},\n",
       "   {'key': 'linia', 'value': '27'},\n",
       "   {'key': 'gps_szer', 'value': '52.232835'},\n",
       "   {'key': 'gps_dlug', 'value': '20.960362'},\n",
       "   {'key': 'ostatnia_aktualizacja', 'value': '2016-04-17 12:58:45.0'}]},\n",
       " {'values': [{'key': 'tabor', 'value': 'T'},\n",
       "   {'key': 'linia', 'value': '28'},\n",
       "   {'key': 'gps_szer', 'value': '52.271434'},\n",
       "   {'key': 'gps_dlug', 'value': '20.945936'},\n",
       "   {'key': 'ostatnia_aktualizacja', 'value': '2016-04-17 12:58:18.0'}]}]"
      ]
     },
     "execution_count": 21,
     "metadata": {},
     "output_type": "execute_result"
    }
   ],
   "source": [
    "data['result'][:3]"
   ]
  },
  {
   "cell_type": "code",
   "execution_count": 20,
   "metadata": {
    "collapsed": false
   },
   "outputs": [
    {
     "data": {
      "text/plain": [
       "[{'gps_dlug': '20.995517',\n",
       "  'gps_szer': '52.258132',\n",
       "  'linia': '28',\n",
       "  'ostatnia_aktualizacja': '2016-04-17 12:58:10.0',\n",
       "  'tabor': 'T'},\n",
       " {'gps_dlug': '20.960362',\n",
       "  'gps_szer': '52.232835',\n",
       "  'linia': '27',\n",
       "  'ostatnia_aktualizacja': '2016-04-17 12:58:45.0',\n",
       "  'tabor': 'T'},\n",
       " {'gps_dlug': '20.945936',\n",
       "  'gps_szer': '52.271434',\n",
       "  'linia': '28',\n",
       "  'ostatnia_aktualizacja': '2016-04-17 12:58:18.0',\n",
       "  'tabor': 'T'}]"
      ]
     },
     "execution_count": 20,
     "metadata": {},
     "output_type": "execute_result"
    }
   ],
   "source": [
    "vehicles = get_vehicles(data)\n",
    "vehicles[:3]"
   ]
  },
  {
   "cell_type": "code",
   "execution_count": 11,
   "metadata": {
    "collapsed": false
   },
   "outputs": [
    {
     "name": "stdout",
     "output_type": "stream",
     "text": [
      "Chrupo!\n"
     ]
    }
   ],
   "source": [
    "call=\"Chrupo!\"\n",
    "print(call)"
   ]
  },
  {
   "cell_type": "code",
   "execution_count": 31,
   "metadata": {
    "collapsed": false
   },
   "outputs": [],
   "source": [
    "def create_point(latitude, longitude, number):\n",
    "    return {\n",
    "            'type':          'Feature',\n",
    "            'geometry':      {\n",
    "                              'type':        'Point',\n",
    "                              'coordinates': [latitude, longitude]\n",
    "                             },\n",
    "            'properties':    {\n",
    "                              'marker-color': '#3ca0d3',            \n",
    "                              'marker-symbol': number                        \n",
    "                             }\n",
    "           }"
   ]
  },
  {
   "cell_type": "code",
   "execution_count": 34,
   "metadata": {
    "collapsed": false
   },
   "outputs": [],
   "source": [
    "geodata = [create_point(vehicle['gps_dlug'], vehicle['gps_szer'], vehicle['linia']) for vehicle in vehicles]"
   ]
  },
  {
   "cell_type": "code",
   "execution_count": null,
   "metadata": {
    "collapsed": false
   },
   "outputs": [],
   "source": [
    "# %load api.py\n",
    "import urllib.request\n",
    "from os.path import join, dirname\n",
    "import dotenv\n",
    "import json\n",
    "import time\n",
    "import csv\n",
    "\n",
    "def get_credentials(var, filename='.env'):\n",
    "    path = join(dirname(__file__), filename)\n",
    "    return dotenv.get_variable(path, var) # returns properly only if line with APIKEY is not the last one, insert empty line after it\n",
    "\n",
    "def get_vehicles(data):\n",
    "    def get_vehicle(item):\n",
    "        return dict( [(item_values['key'],item_values['value']) for item_values in item['values']] )\n",
    "    return [get_vehicle(item) for item in data['result']]\n",
    "\n",
    "def create_point(latitude, longitude, number):\n",
    "    return {\n",
    "            'type':          'Feature',\n",
    "            'geometry':      {\n",
    "                              'type':        'Point',\n",
    "                              'coordinates': [latitude, longitude]\n",
    "                             },\n",
    "            'properties':    {\n",
    "                              'marker-color': '#3ca0d3',            \n",
    "                              'marker-symbol': number                        \n",
    "                             }\n",
    "           }\n",
    "\n",
    "def main():\n",
    "    response = urllib.request.urlopen('https://api.um.warszawa.pl/api/action/dbstore_get/?id=daeea0db-0f9a-498d-9c4f-210897daffd2&apikey=' + get_credentials('APIKEY')) # get page\n",
    "    html   = response.read().decode('utf-8') # decode page # http://stackoverflow.com/questions/23049767/parsing-http-response-in-python\n",
    "    data     = json.loads(html) # load string data to json # https://www.reddit.com/r/learnpython/comments/3nx9ch/json_load_vs_loads/\n",
    "    vehicles = get_vehicles(data) # take all vehicles, keys: 'tabor,' 'linia', 'gps_dlug', 'ostatnia_aktualizacja', 'gps_szer'\n",
    "    with open('warsaw-tramps_' + time.strftime('%Y-%M-%d--%H-%M-%S'), 'w') as output:\n",
    "        output.write(json.dumps(vehicles))\n",
    "\n",
    "    # with open('warsaw-tramps' + time.strftime('%Y.%M.%d_%H.%M.%S'), 'wb') as output_file_name:\n",
    "    #     wr = csv.writer(output_file_name, quoting=csv.QUOTE_ALL)\n",
    "    #     wr.writerow(vehicles)\n",
    "    geodata = [create_point(vehicle['gps_dlug'], vehicle['gps_szer'], vehicle['linia']) for vehicle in vehicles]\n",
    "    timedata = [x['ostatnia_aktualizacja'] for x in vehicles]\n",
    "    return vehicles\n",
    "\n",
    "main()\n",
    "\n",
    "\n",
    "# print sorted(list(set(timedata)))\n",
    "\n"
   ]
  },
  {
   "cell_type": "code",
   "execution_count": 24,
   "metadata": {
    "collapsed": false
   },
   "outputs": [],
   "source": [
    "vehicles = main()"
   ]
  },
  {
   "cell_type": "code",
   "execution_count": null,
   "metadata": {
    "collapsed": true
   },
   "outputs": [],
   "source": []
  }
 ],
 "metadata": {
  "kernelspec": {
   "display_name": "Python 3",
   "language": "python",
   "name": "python3"
  },
  "language_info": {
   "codemirror_mode": {
    "name": "ipython",
    "version": 3
   },
   "file_extension": ".py",
   "mimetype": "text/x-python",
   "name": "python",
   "nbconvert_exporter": "python",
   "pygments_lexer": "ipython3",
   "version": "3.5.0"
  }
 },
 "nbformat": 4,
 "nbformat_minor": 0
}
