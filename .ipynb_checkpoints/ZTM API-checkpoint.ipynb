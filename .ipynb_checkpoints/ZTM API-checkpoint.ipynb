{
 "cells": [
  {
   "cell_type": "code",
   "execution_count": 8,
   "metadata": {
    "collapsed": false
   },
   "outputs": [],
   "source": [
    "import urllib.request\n",
    "from os.path import dirname\n",
    "import dotenv\n",
    "import json"
   ]
  },
  {
   "cell_type": "code",
   "execution_count": 6,
   "metadata": {
    "collapsed": false
   },
   "outputs": [
    {
     "ename": "SyntaxError",
     "evalue": "invalid syntax (<ipython-input-6-b9d676d9bc42>, line 2)",
     "output_type": "error",
     "traceback": [
      "\u001b[1;36m  File \u001b[1;32m\"<ipython-input-6-b9d676d9bc42>\"\u001b[1;36m, line \u001b[1;32m2\u001b[0m\n\u001b[1;33m    path =\u001b[0m\n\u001b[1;37m           ^\u001b[0m\n\u001b[1;31mSyntaxError\u001b[0m\u001b[1;31m:\u001b[0m invalid syntax\n"
     ]
    }
   ],
   "source": [
    "def get_credentials(var, file='.env'):\n",
    "    path = \n",
    "    return dotenv.get_variable(pwd, var)"
   ]
  },
  {
   "cell_type": "code",
   "execution_count": 11,
   "metadata": {
    "collapsed": false
   },
   "outputs": [
    {
     "ename": "NameError",
     "evalue": "name '__file__' is not defined",
     "output_type": "error",
     "traceback": [
      "\u001b[1;31m---------------------------------------------------------------------------\u001b[0m",
      "\u001b[1;31mNameError\u001b[0m                                 Traceback (most recent call last)",
      "\u001b[1;32m<ipython-input-11-4e9a5fe7251e>\u001b[0m in \u001b[0;36m<module>\u001b[1;34m()\u001b[0m\n\u001b[1;32m----> 1\u001b[1;33m \u001b[0mdirname\u001b[0m\u001b[1;33m(\u001b[0m\u001b[0m__file__\u001b[0m\u001b[1;33m)\u001b[0m\u001b[1;33m\u001b[0m\u001b[0m\n\u001b[0m",
      "\u001b[1;31mNameError\u001b[0m: name '__file__' is not defined"
     ]
    }
   ],
   "source": [
    "dirname(__file__)"
   ]
  },
  {
   "cell_type": "code",
   "execution_count": 4,
   "metadata": {
    "collapsed": false,
    "scrolled": true
   },
   "outputs": [],
   "source": [
    "response = urllib.request.urlopen('https://api.um.warszawa.pl/api/action/dbstore_get/?id=daeea0db-0f9a-498d-9c4f-210897daffd2&apikey=' + apikey')\n",
    "html   = response.read().decode('utf-8') # http://stackoverflow.com/questions/23049767/parsing-http-response-in-python\n",
    "data     = json.loads(html) # https://www.reddit.com/r/learnpython/comments/3nx9ch/json_load_vs_loads/"
   ]
  },
  {
   "cell_type": "code",
   "execution_count": null,
   "metadata": {
    "collapsed": true
   },
   "outputs": [],
   "source": [
    "def get_vehicles(data):\n",
    "    def get vehicle(object):\n",
    "        ...\n",
    "    return data['result']"
   ]
  },
  {
   "cell_type": "code",
   "execution_count": 22,
   "metadata": {
    "collapsed": false
   },
   "outputs": [
    {
     "data": {
      "text/plain": [
       "[{'values': [{'key': 'tabor', 'value': 'T'},\n",
       "   {'key': 'linia', 'value': '28'},\n",
       "   {'key': 'gps_szer', 'value': '52.269442'},\n",
       "   {'key': 'gps_dlug', 'value': '20.953281'},\n",
       "   {'key': 'ostatnia_aktualizacja', 'value': '2016-04-16 22:52:21.0'}]},\n",
       " {'values': [{'key': 'tabor', 'value': 'T'},\n",
       "   {'key': 'linia', 'value': '28'},\n",
       "   {'key': 'gps_szer', 'value': '52.256528'},\n",
       "   {'key': 'gps_dlug', 'value': '21.028803'},\n",
       "   {'key': 'ostatnia_aktualizacja', 'value': '2016-04-16 22:52:06.0'}]},\n",
       " {'values': [{'key': 'tabor', 'value': 'T'},\n",
       "   {'key': 'linia', 'value': '27'},\n",
       "   {'key': 'gps_szer', 'value': '52.271768'},\n",
       "   {'key': 'gps_dlug', 'value': '20.973606'},\n",
       "   {'key': 'ostatnia_aktualizacja', 'value': '2016-04-16 22:52:35.0'}]},\n",
       " {'values': [{'key': 'tabor', 'value': 'T'},\n",
       "   {'key': 'linia', 'value': '0'},\n",
       "   {'key': 'gps_szer', 'value': '52.298345'},\n",
       "   {'key': 'gps_dlug', 'value': '20.932369'},\n",
       "   {'key': 'ostatnia_aktualizacja', 'value': '2016-04-16 23:46:45.0'}]}]"
      ]
     },
     "execution_count": 22,
     "metadata": {},
     "output_type": "execute_result"
    }
   ],
   "source": [
    "data['result'][:4]"
   ]
  },
  {
   "cell_type": "code",
   "execution_count": null,
   "metadata": {
    "collapsed": true
   },
   "outputs": [],
   "source": []
  }
 ],
 "metadata": {
  "kernelspec": {
   "display_name": "Python 3",
   "language": "python",
   "name": "python3"
  },
  "language_info": {
   "codemirror_mode": {
    "name": "ipython",
    "version": 3
   },
   "file_extension": ".py",
   "mimetype": "text/x-python",
   "name": "python",
   "nbconvert_exporter": "python",
   "pygments_lexer": "ipython3",
   "version": "3.5.0"
  }
 },
 "nbformat": 4,
 "nbformat_minor": 0
}
